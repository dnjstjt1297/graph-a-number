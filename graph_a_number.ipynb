{
  "nbformat": 4,
  "nbformat_minor": 0,
  "metadata": {
    "colab": {
      "provenance": [],
      "authorship_tag": "ABX9TyNVu58335Mh6iFy3fC9kaRJ",
      "include_colab_link": true
    },
    "kernelspec": {
      "name": "python3",
      "display_name": "Python 3"
    },
    "language_info": {
      "name": "python"
    }
  },
  "cells": [
    {
      "cell_type": "markdown",
      "metadata": {
        "id": "view-in-github",
        "colab_type": "text"
      },
      "source": [
        "<a href=\"https://colab.research.google.com/github/dnjstjt1297/graph-a-number/blob/main/graph_a_number.ipynb\" target=\"_parent\"><img src=\"https://colab.research.google.com/assets/colab-badge.svg\" alt=\"Open In Colab\"/></a>"
      ]
    },
    {
      "cell_type": "code",
      "execution_count": null,
      "metadata": {
        "id": "FZcE3S_nxu3g"
      },
      "outputs": [],
      "source": [
        "import networkx as nx\n",
        "import itertools"
      ]
    },
    {
      "cell_type": "code",
      "source": [
        "from networkx.algorithms.bipartite.basic import connected_components\n",
        "def sa(G):\n",
        "    n = G.number_of_nodes()\n",
        "    if n == 0: \n",
        "        return 1\n",
        "\n",
        "    if n % 2 == 1:\n",
        "        return 0\n",
        "\n",
        "    cmt = list(connected_components(G))\n",
        "    for i in range(0,len(cmt)):\n",
        "      if(len(cmt[i])%2 == 1):\n",
        "        return 0\n",
        "\n",
        "    sa_value = 0\n",
        "    for k in range(0, n, 2):\n",
        "      for nodes in itertools.combinations(G.nodes(), k): \n",
        "          subgraph = G.subgraph(nodes)\n",
        "          sa_value += (-1)*sa(subgraph)\n",
        "\n",
        "    return sa_value\n",
        "\n"
      ],
      "metadata": {
        "id": "hT_VZWLOyNF8"
      },
      "execution_count": null,
      "outputs": []
    },
    {
      "cell_type": "code",
      "source": [
        "G = nx.Graph()\n",
        "G.add_edges_from([(1,2),(1,3),(1,4),(1,5),(1,6),(2,3),(2,1),(2,4),(2,5),(2,6),(3,1),(3,2),(3,4),(3,5),(3,6),\n",
        "                  (4,1),(4,2),(4,3),(4,5),(4,6),(5,1),(5,2),(5,3),(5,4),(5,6),(6,1),(6,2),(6,3),(6,4),(6,5)])\n",
        "\n",
        "print(sa(G))"
      ],
      "metadata": {
        "colab": {
          "base_uri": "https://localhost:8080/"
        },
        "id": "VNsojsOUBgu_",
        "outputId": "a7c23ee6-93cd-4f08-e849-e6c7afb5559f"
      },
      "execution_count": null,
      "outputs": [
        {
          "output_type": "stream",
          "name": "stdout",
          "text": [
            "-61\n"
          ]
        }
      ]
    },
    {
      "cell_type": "code",
      "source": [],
      "metadata": {
        "id": "go0F2rPU1ud2"
      },
      "execution_count": null,
      "outputs": []
    }
  ]
}